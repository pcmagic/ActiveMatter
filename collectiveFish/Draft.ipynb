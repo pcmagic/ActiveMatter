{
 "cells": [
  {
   "cell_type": "code",
   "execution_count": 1,
   "id": "9353bf64",
   "metadata": {},
   "outputs": [],
   "source": [
    "%load_ext autoreload\n",
    "%autoreload 2\n",
    "\n",
    "import os\n",
    "from datetime import datetime\n",
    "from time import time\n",
    "# import dill\n",
    "import pickle\n",
    "import glob\n",
    "import importlib\n",
    "import numpy as np\n",
    "import scipy as sp\n",
    "import scipy.misc\n",
    "import pandas as pd\n",
    "import re\n",
    "import itertools\n",
    "from scanf import scanf\n",
    "import matplotlib\n",
    "from matplotlib import pyplot as plt\n",
    "import matplotlib.ticker as mtick\n",
    "from matplotlib import colors as mcolors\n",
    "from matplotlib.colors import ListedColormap, BoundaryNorm, PowerNorm, Normalize\n",
    "from mpl_toolkits.mplot3d import axes3d, Axes3D\n",
    "from scipy.optimize import leastsq, curve_fit\n",
    "from scipy import interpolate, integrate, optimize, sparse\n",
    "from scipy.interpolate import interp1d, interp2d\n",
    "from IPython.display import display, HTML, Math\n",
    "from scipy import interpolate\n",
    "from tqdm.notebook import tqdm as tqdm_notebook\n",
    "\n",
    "# from act_act_src import baseClass\n",
    "# from act_src import particleClass\n",
    "# from act_src import interactionClass\n",
    "# from act_src import problemClass\n",
    "# from act_src import relationClass\n",
    "from act_codeStore.support_class import *\n",
    "from act_codeStore import support_fun\n",
    "\n",
    "PWD = os.getcwd()\n",
    "np.set_printoptions(linewidth=110, precision=5)\n",
    "\n",
    "params = {'animation.html': 'html5',\n",
    "          'font.family':    'sans-serif',\n",
    "          'font.size':      15, }\n",
    "preamble = r' '\n",
    "preamble = preamble + '\\\\usepackage{bm} '\n",
    "preamble = preamble + '\\\\usepackage{amsmath} '\n",
    "preamble = preamble + '\\\\usepackage{amssymb} '\n",
    "preamble = preamble + '\\\\usepackage{mathrsfs} '\n",
    "preamble = preamble + '\\\\DeclareMathOperator{\\\\Tr}{Tr} '\n",
    "params['text.latex.preamble'] = preamble\n",
    "params['text.usetex'] = True\n",
    "plt.rcParams.update(params)"
   ]
  },
  {
   "cell_type": "code",
   "execution_count": 2,
   "id": "18df7462",
   "metadata": {},
   "outputs": [
    {
     "name": "stdout",
     "output_type": "stream",
     "text": [
      "[0.37873 0.34295 0.37543] [0.14343 0.11762 0.14095] 0.4019982457596296\n"
     ]
    }
   ],
   "source": [
    "dx = np.random.sample(3)\n",
    "print(dx, dx ** 2, np.sum(dx ** 2))"
   ]
  },
  {
   "cell_type": "code",
   "execution_count": 3,
   "id": "a02b2183",
   "metadata": {},
   "outputs": [
    {
     "name": "stdout",
     "output_type": "stream",
     "text": [
      "4.235164736271502e-22 -1.5797488956186738e-06 -1.5797488956186743e-06\n",
      "2.117582368135751e-22 -1.5797488956186738e-06 1.5516031897863093e-06\n"
     ]
    }
   ],
   "source": [
    "zR, zI = np.random.uniform(-100, 100, 2)\n",
    "dz = zR + 1j * zI\n",
    "t1 = (zR ** 3 - 3 * zR * zI ** 2) / (zR ** 2 + zI ** 2) ** 3\n",
    "t2 = (zI ** 3 - 3 * zI * zR ** 2) / (zR ** 2 + zI ** 2) ** 3\n",
    "\n",
    "print((t1 - np.real(1 / dz ** 3)), t1, np.real(1 / dz ** 3))\n",
    "print((t2 - np.imag(1 / dz ** 3)), t1, np.imag(1 / dz ** 3))"
   ]
  },
  {
   "cell_type": "code",
   "execution_count": 4,
   "id": "ee0ccb81",
   "metadata": {},
   "outputs": [
    {
     "name": "stdout",
     "output_type": "stream",
     "text": [
      "-4.336808689942018e-19\n",
      "3.469446951953614e-18\n"
     ]
    }
   ],
   "source": [
    "zR, zI = np.random.uniform(-100, 100, 2)\n",
    "dz = zR + 1j * zI\n",
    "\n",
    "c =  zR / (zR ** 2 + zI ** 2)\n",
    "d = -zI / (zR ** 2 + zI ** 2)\n",
    "# t2 = np.real(1 / dz ** 3)\n",
    "\n",
    "print(c - np.real(1 / dz))\n",
    "print(d - np.imag(1 / dz))"
   ]
  },
  {
   "cell_type": "code",
   "execution_count": 5,
   "id": "3d23d7b1",
   "metadata": {},
   "outputs": [
    {
     "name": "stdout",
     "output_type": "stream",
     "text": [
      "(0.0030731811608453335-0.018542268919795653j) (0.003073181160845333-0.018542268919795653j)\n"
     ]
    }
   ],
   "source": [
    "print(1 / dz, np.conj(dz) / (dz * np.conj(dz)))"
   ]
  },
  {
   "cell_type": "code",
   "execution_count": 6,
   "id": "77223b6a",
   "metadata": {},
   "outputs": [
    {
     "name": "stdout",
     "output_type": "stream",
     "text": [
      "(2830.774763321807+0j) 151.36203236183368\n"
     ]
    }
   ],
   "source": [
    "print(dz * np.conj(dz), (zR ** 2 + zR ** 2))"
   ]
  },
  {
   "cell_type": "code",
   "execution_count": 12,
   "id": "fe05a765",
   "metadata": {},
   "outputs": [
    {
     "data": {
      "text/plain": [
       "numpy.int64"
      ]
     },
     "execution_count": 12,
     "metadata": {},
     "output_type": "execute_result"
    }
   ],
   "source": [
    "np.int64"
   ]
  }
 ],
 "metadata": {
  "kernelspec": {
   "display_name": "Python 3",
   "language": "python",
   "name": "python3"
  },
  "language_info": {
   "codemirror_mode": {
    "name": "ipython",
    "version": 3
   },
   "file_extension": ".py",
   "mimetype": "text/x-python",
   "name": "python",
   "nbconvert_exporter": "python",
   "pygments_lexer": "ipython3",
   "version": "3.8.8"
  }
 },
 "nbformat": 4,
 "nbformat_minor": 5
}
