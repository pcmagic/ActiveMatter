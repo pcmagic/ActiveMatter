{
 "cells": [
  {
   "cell_type": "code",
   "execution_count": 1,
   "id": "9353bf64",
   "metadata": {},
   "outputs": [],
   "source": [
    "%load_ext autoreload\n",
    "%autoreload 2\n",
    "\n",
    "import os\n",
    "from datetime import datetime\n",
    "from time import time\n",
    "# import dill\n",
    "import pickle\n",
    "import glob\n",
    "import importlib\n",
    "import numpy as np\n",
    "import scipy as sp\n",
    "import scipy.misc\n",
    "import pandas as pd\n",
    "import re\n",
    "import itertools\n",
    "from scanf import scanf\n",
    "import matplotlib\n",
    "from matplotlib import pyplot as plt\n",
    "import matplotlib.ticker as mtick\n",
    "from matplotlib import colors as mcolors\n",
    "from matplotlib.colors import ListedColormap, BoundaryNorm, PowerNorm, Normalize\n",
    "from mpl_toolkits.mplot3d import axes3d, Axes3D\n",
    "from scipy.optimize import leastsq, curve_fit\n",
    "from scipy import interpolate, integrate, optimize, sparse\n",
    "from scipy.interpolate import interp1d, interp2d\n",
    "from IPython.display import display, HTML, Math\n",
    "from scipy import interpolate\n",
    "from tqdm.notebook import tqdm as tqdm_notebook\n",
    "\n",
    "# from act_act_src import baseClass\n",
    "# from act_src import particleClass\n",
    "# from act_src import interactionClass\n",
    "# from act_src import problemClass\n",
    "# from act_src import relationClass\n",
    "from act_codeStore.support_class import *\n",
    "from act_codeStore import support_fun\n",
    "\n",
    "PWD = os.getcwd()\n",
    "np.set_printoptions(linewidth=110, precision=5)\n",
    "\n",
    "params = {'animation.html': 'html5',\n",
    "          'font.family':    'sans-serif',\n",
    "          'font.size':      15, }\n",
    "preamble = r' '\n",
    "preamble = preamble + '\\\\usepackage{bm} '\n",
    "preamble = preamble + '\\\\usepackage{amsmath} '\n",
    "preamble = preamble + '\\\\usepackage{amssymb} '\n",
    "preamble = preamble + '\\\\usepackage{mathrsfs} '\n",
    "preamble = preamble + '\\\\DeclareMathOperator{\\\\Tr}{Tr} '\n",
    "params['text.latex.preamble'] = preamble\n",
    "params['text.usetex'] = True\n",
    "plt.rcParams.update(params)"
   ]
  },
  {
   "cell_type": "code",
   "execution_count": 3,
   "id": "a02b2183",
   "metadata": {},
   "outputs": [
    {
     "name": "stdout",
     "output_type": "stream",
     "text": [
      "0.0 3.7786481660297166e-06 3.7786481660297166e-06\n",
      "0.0 3.7786481660297166e-06 2.74686747220805e-06\n"
     ]
    }
   ],
   "source": [
    "zR, zI = np.random.uniform(-100, 100, 2)\n",
    "dz = zR + 1j * zI\n",
    "t1 = (zR ** 3 - 3 * zR * zI ** 2) / (zR ** 2 + zI ** 2) ** 3\n",
    "t2 = (zI ** 3 - 3 * zI * zR ** 2) / (zR ** 2 + zI ** 2) ** 3\n",
    "\n",
    "print((t1 - np.real(1 / dz ** 3)), t1, np.real(1 / dz ** 3))\n",
    "print((t2 - np.imag(1 / dz ** 3)), t1, np.imag(1 / dz ** 3))"
   ]
  },
  {
   "cell_type": "code",
   "execution_count": 4,
   "id": "ee0ccb81",
   "metadata": {},
   "outputs": [
    {
     "name": "stdout",
     "output_type": "stream",
     "text": [
      "4.336808689942018e-19\n",
      "-1.3877787807814457e-17\n"
     ]
    }
   ],
   "source": [
    "zR, zI = np.random.uniform(-100, 100, 2)\n",
    "dz = zR + 1j * zI\n",
    "\n",
    "c =  zR / (zR ** 2 + zI ** 2)\n",
    "d = -zI / (zR ** 2 + zI ** 2)\n",
    "# t2 = np.real(1 / dz ** 3)\n",
    "\n",
    "print(c - np.real(1 / dz))\n",
    "print(d - np.imag(1 / dz))"
   ]
  },
  {
   "cell_type": "code",
   "execution_count": 11,
   "id": "fe05a765",
   "metadata": {},
   "outputs": [
    {
     "name": "stdout",
     "output_type": "stream",
     "text": [
      "0.417022004702574\n"
     ]
    }
   ],
   "source": [
    "np.random.seed(1)\n",
    "print(np.random.sample())"
   ]
  },
  {
   "cell_type": "code",
   "execution_count": 32,
   "id": "ff86d70e",
   "metadata": {},
   "outputs": [
    {
     "name": "stdout",
     "output_type": "stream",
     "text": [
      "   0.2747455961\n",
      "   0.0464677648\n",
      "   0.9927552240\n",
      "   0.0800304450\n",
      "   0.1476887967\n",
      "   0.0796446726\n",
      "   0.2805664763\n",
      "   0.4484554050\n",
      "   0.4982478325\n",
      "   0.8940018625\n"
     ]
    }
   ],
   "source": [
    "from ctypes import CDLL\n",
    "RAND_MAX = 2147483647\n",
    "libc = CDLL(\"libc.so.6\")\n",
    "libc.srand(5)\n",
    "for _ in range(10):\n",
    "    i0 = libc.rand() / (RAND_MAX + 1.0)\n",
    "    print(\"%15.10f\" % i0)"
   ]
  },
  {
   "cell_type": "code",
   "execution_count": 12,
   "id": "91c49b37",
   "metadata": {},
   "outputs": [
    {
     "name": "stdout",
     "output_type": "stream",
     "text": [
      "1.0 0.36787944117144233\n"
     ]
    },
    {
     "data": {
      "image/png": "[encoded data removed]",
      "text/plain": [
       "<Figure size 432x288 with 1 Axes>"
      ]
     },
     "metadata": {
      "needs_background": "light"
     },
     "output_type": "display_data"
    }
   ],
   "source": [
    "gamma = 0.1\n",
    "x = np.linspace(0, 10, 100)\n",
    "y = np.exp(-gamma * x)\n",
    "plt.plot(x, y)\n",
    "print(y[0], y[-1])"
   ]
  },
  {
   "cell_type": "code",
   "execution_count": 15,
   "id": "7cbf27db",
   "metadata": {},
   "outputs": [
    {
     "data": {
      "text/plain": [
       "[<matplotlib.lines.Line2D at 0x7ff8e41753a0>]"
      ]
     },
     "execution_count": 15,
     "metadata": {},
     "output_type": "execute_result"
    },
    {
     "data": {
      "image/png": "[encoded data removed]",
      "text/plain": [
       "<Figure size 432x288 with 1 Axes>"
      ]
     },
     "metadata": {
      "needs_background": "light"
     },
     "output_type": "display_data"
    }
   ],
   "source": [
    "eta = np.linspace(1.5, 5.5, 100)\n",
    "phi = 1 - eta ** -2\n",
    "plt.plot(eta, phi)"
   ]
  },
  {
   "cell_type": "code",
   "execution_count": 17,
   "id": "fdfdf541",
   "metadata": {},
   "outputs": [
    {
     "data": {
      "text/plain": [
       "0.3613167094043124"
      ]
     },
     "execution_count": 17,
     "metadata": {},
     "output_type": "execute_result"
    }
   ],
   "source": [
    "21.2 ** (-1/3)"
   ]
  }
 ],
 "metadata": {
  "kernelspec": {
   "display_name": "Python 3",
   "language": "python",
   "name": "python3"
  },
  "language_info": {
   "codemirror_mode": {
    "name": "ipython",
    "version": 3
   },
   "file_extension": ".py",
   "mimetype": "text/x-python",
   "name": "python",
   "nbconvert_exporter": "python",
   "pygments_lexer": "ipython3",
   "version": "3.8.8"
  }
 },
 "nbformat": 4,
 "nbformat_minor": 5
}
